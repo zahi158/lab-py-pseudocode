{
 "cells": [
  {
   "cell_type": "markdown",
   "metadata": {},
   "source": [
    "# LAB | Pseudocode Using Python\n",
    "\n",
    "## Overview\n",
    "\n",
    "This exercise will help you practice writing pseudocode and translating it into Python code. Pseudocode is a way to describe algorithms in a human-readable format, which can then be implemented in programming languages.\n",
    "\n"
   ]
  },
  {
   "cell_type": "markdown",
   "metadata": {},
   "source": [
    "### Exercise 1: Multiply Two Numbers\n",
    "\n",
    "Write a pseudocode to read two numbers and multiply them together. Then, write the equivalent Python code."
   ]
  },
  {
   "cell_type": "markdown",
   "metadata": {},
   "source": [
    "<!-- Add your pseudocode here -->"
   ]
  },
  {
   "cell_type": "code",
   "execution_count": 7,
   "metadata": {},
   "outputs": [
    {
     "name": "stdout",
     "output_type": "stream",
     "text": [
      "The result is: 30.0\n"
     ]
    }
   ],
   "source": [
    "# Add your code solution here\n",
    "# BEGIN\n",
    "# READ number1\n",
    "# READ number2\n",
    "# result ← number1 * number2\n",
    "# PRINT result\n",
    "# END\n",
    "\n",
    "number1 = float(input(\"Enter the first number: \"))\n",
    "number2 = float(input(\"Enter the second number: \"))\n",
    "\n",
    "result = number1 * number2\n",
    "\n",
    "print(\"The result is:\", result)"
   ]
  },
  {
   "cell_type": "markdown",
   "metadata": {},
   "source": [
    "### Exercise 2: Check Even or Odd\n",
    "\n",
    "Write pseudocode that checks if a number is even or odd and prints the result. Then, write the equivalent Python code."
   ]
  },
  {
   "cell_type": "markdown",
   "metadata": {},
   "source": [
    "<!-- Add your pseudocode here -->"
   ]
  },
  {
   "cell_type": "code",
   "execution_count": 8,
   "metadata": {},
   "outputs": [
    {
     "name": "stdout",
     "output_type": "stream",
     "text": [
      "Even\n"
     ]
    }
   ],
   "source": [
    "# Add your code solution here\n",
    "# BEGIN\n",
    "#   READ number\n",
    "#   IF number MOD 2 = 0 THEN\n",
    "#       PRINT \"Even\"\n",
    "#   ELSE\n",
    "#       PRINT \"Odd\"\n",
    "#   ENDIF\n",
    "# END\n",
    "\n",
    "number = int(input(\"Enter a number: \"))\n",
    "\n",
    "if number % 2 == 0:\n",
    "    print(\"Even\")\n",
    "else:\n",
    "    print(\"Odd\")"
   ]
  },
  {
   "cell_type": "markdown",
   "metadata": {},
   "source": [
    "### Exercise 3: Sum of First N Natural Numbers\n",
    "\n",
    "Write pseudocode to calculate the sum of the first N natural numbers. Then, write the equivalent Python code."
   ]
  },
  {
   "cell_type": "markdown",
   "metadata": {},
   "source": [
    "<!-- Add your pseudocode here -->"
   ]
  },
  {
   "cell_type": "code",
   "execution_count": 9,
   "metadata": {},
   "outputs": [
    {
     "name": "stdout",
     "output_type": "stream",
     "text": [
      "The sum of the first 4 natural numbers is: 10\n"
     ]
    }
   ],
   "source": [
    "# Add your code solution here\n",
    "# BEGIN\n",
    "#   READ N\n",
    "#   sum ← 0\n",
    "#   FOR i FROM 1 TO N DO\n",
    "#       sum ← sum + i\n",
    "#   ENDFOR\n",
    "#   PRINT sum\n",
    "# END\n",
    "\n",
    "N = int(input(\"Enter a positive integer N: \"))\n",
    "\n",
    "total = 0\n",
    "\n",
    "for i in range(1, N + 1):\n",
    "    total += i\n",
    "\n",
    "print(\"The sum of the first\", N, \"natural numbers is:\", total)"
   ]
  },
  {
   "cell_type": "markdown",
   "metadata": {},
   "source": [
    "### Exercise 4: Find Maximum of Three Numbers\n",
    "\n",
    "Write pseudocode that finds the maximum of three numbers entered by the user. Then, write the equivalent Python code."
   ]
  },
  {
   "cell_type": "markdown",
   "metadata": {},
   "source": [
    "<!-- Add your pseudocode here -->"
   ]
  },
  {
   "cell_type": "code",
   "execution_count": 10,
   "metadata": {},
   "outputs": [
    {
     "name": "stdout",
     "output_type": "stream",
     "text": [
      "The maximum number is: 5.0\n"
     ]
    }
   ],
   "source": [
    "# Add your code solution here\n",
    "# BEGIN\n",
    "#   READ num1\n",
    "#   READ num2\n",
    "#   READ num3\n",
    "#   IF num1 ≥ num2 AND num1 ≥ num3 THEN\n",
    "#       max ← num1\n",
    "#   ELSE IF num2 ≥ num1 AND num2 ≥ num3 THEN\n",
    "#       max ← num2\n",
    "#   ELSE\n",
    "#       max ← num3\n",
    "#   ENDIF\n",
    "#   PRINT max\n",
    "# END\n",
    "\n",
    "num1 = float(input(\"Enter first number: \"))\n",
    "num2 = float(input(\"Enter second number: \"))\n",
    "num3 = float(input(\"Enter third number: \"))\n",
    "\n",
    "if num1 >= num2 and num1 >= num3:\n",
    "    maximum = num1\n",
    "elif num2 >= num1 and num2 >= num3:\n",
    "    maximum = num2\n",
    "else:\n",
    "    maximum = num3\n",
    "\n",
    "print(\"The maximum number is:\", maximum)"
   ]
  },
  {
   "cell_type": "markdown",
   "metadata": {},
   "source": [
    "### Exercise 5: Count Vowels in a String\n",
    "\n",
    "Write pseudocode to count the number of vowels in a given string and print the count. Then, write the equivalent Python code."
   ]
  },
  {
   "cell_type": "markdown",
   "metadata": {},
   "source": [
    "<!-- Add your pseudocode here -->"
   ]
  },
  {
   "cell_type": "code",
   "execution_count": 14,
   "metadata": {},
   "outputs": [
    {
     "name": "stdout",
     "output_type": "stream",
     "text": [
      "Number of vowels: 2\n"
     ]
    }
   ],
   "source": [
    "# Add your code solution here\n",
    "# BEGIN\n",
    "#   READ text\n",
    "#   SET count ← 0\n",
    "#   FOR each character IN text DO\n",
    "#       IF character is a vowel THEN\n",
    "#           INCREMENT count\n",
    "#       ENDIF\n",
    "#   ENDFOR\n",
    "#   PRINT count\n",
    "# END\n",
    "\n",
    "text = input(\"Enter a string: \")\n",
    "\n",
    "count = 0\n",
    "\n",
    "vowels = \"aeiouAEIOU\"\n",
    "\n",
    "for char in text:\n",
    "    if char in vowels:\n",
    "        count += 1\n",
    "\n",
    "print(\"Number of vowels:\", count)"
   ]
  },
  {
   "cell_type": "markdown",
   "metadata": {},
   "source": [
    "## Bonus Exercises\n",
    "\n",
    "### Bonus Exercise 6: Reverse a String\n",
    "\n",
    "Write pseudocode to reverse a given string and print it out."
   ]
  },
  {
   "cell_type": "markdown",
   "metadata": {},
   "source": [
    "<!-- Add your pseudocode here -->"
   ]
  },
  {
   "cell_type": "code",
   "execution_count": 15,
   "metadata": {},
   "outputs": [
    {
     "name": "stdout",
     "output_type": "stream",
     "text": [
      "Reversed string: olleh\n"
     ]
    }
   ],
   "source": [
    "# Add your code solution here\n",
    "# BEGIN\n",
    "#   READ text\n",
    "#   SET reversed_text ← empty string\n",
    "#   FOR i FROM length of text - 1 DOWNTO 0 DO\n",
    "#       reversed_text ← reversed_text + text[i]\n",
    "#   ENDFOR\n",
    "#   PRINT reversed_text\n",
    "# END\n",
    "\n",
    "text = input(\"Enter a string: \")\n",
    "\n",
    "reversed_text = \"\"\n",
    "for i in range(len(text) - 1, -1, -1):\n",
    "    reversed_text += text[i]\n",
    "\n",
    "print(\"Reversed string:\", reversed_text)"
   ]
  },
  {
   "cell_type": "markdown",
   "metadata": {},
   "source": [
    "### Bonus Exercise 7: Print Multiplication Table of a Number\n",
    "\n",
    "Write pseudocode to print the multiplication table of a given number up to 10."
   ]
  },
  {
   "cell_type": "markdown",
   "metadata": {},
   "source": [
    "<!-- Add your pseudocode here -->"
   ]
  },
  {
   "cell_type": "code",
   "execution_count": 16,
   "metadata": {},
   "outputs": [
    {
     "name": "stdout",
     "output_type": "stream",
     "text": [
      "6 x 1 = 6\n",
      "6 x 2 = 12\n",
      "6 x 3 = 18\n",
      "6 x 4 = 24\n",
      "6 x 5 = 30\n",
      "6 x 6 = 36\n",
      "6 x 7 = 42\n",
      "6 x 8 = 48\n",
      "6 x 9 = 54\n",
      "6 x 10 = 60\n"
     ]
    }
   ],
   "source": [
    "# Add your code solution here\n",
    "# BEGIN\n",
    "#   READ number\n",
    "#   FOR i FROM 1 TO 10 DO\n",
    "#       result ← number * i\n",
    "#       PRINT number + \" x \" + i + \" = \" + result\n",
    "#   ENDFOR\n",
    "# END\n",
    "\n",
    "number = int(input(\"Enter a number to display its multiplication table: \"))\n",
    "\n",
    "for i in range(1, 11):\n",
    "    result = number * i\n",
    "    print(f\"{number} x {i} = {result}\")"
   ]
  },
  {
   "cell_type": "markdown",
   "metadata": {},
   "source": [
    "### Bonus Exercise 8: Count Words in a String\n",
    "\n",
    "Write pseudocode that counts the words in a given string and prints the result."
   ]
  },
  {
   "cell_type": "markdown",
   "metadata": {},
   "source": [
    "<!-- Add your pseudocode here -->"
   ]
  },
  {
   "cell_type": "code",
   "execution_count": 17,
   "metadata": {},
   "outputs": [
    {
     "name": "stdout",
     "output_type": "stream",
     "text": [
      "Number of words: 4\n"
     ]
    }
   ],
   "source": [
    "# Add your code solution here\n",
    "# BEGIN\n",
    "#   READ text\n",
    "#   SPLIT text into words using spaces\n",
    "#   SET count ← number of words\n",
    "#   PRINT count\n",
    "# END\n",
    "\n",
    "text = input(\"Enter a sentence: \")\n",
    "\n",
    "words = text.split()\n",
    "count = len(words)\n",
    "\n",
    "print(\"Number of words:\", count)"
   ]
  },
  {
   "cell_type": "markdown",
   "metadata": {},
   "source": [
    "### Bonus Exercise 9: Find Factorial of a Number\n",
    "\n",
    "Write pseudocode that calculates the factorial of a given positive integer."
   ]
  },
  {
   "cell_type": "markdown",
   "metadata": {},
   "source": [
    "<!-- Add your pseudocode here -->"
   ]
  },
  {
   "cell_type": "code",
   "execution_count": 18,
   "metadata": {},
   "outputs": [
    {
     "name": "stdout",
     "output_type": "stream",
     "text": [
      "Factorial of 15 is: 1307674368000\n"
     ]
    }
   ],
   "source": [
    "# Add your code solution here\n",
    "# BEGIN\n",
    "#   READ number\n",
    "#   SET factorial ← 1\n",
    "#   FOR i FROM 1 TO number DO\n",
    "#       factorial ← factorial * i\n",
    "#   ENDFOR\n",
    "#   PRINT factorial\n",
    "# END\n",
    "\n",
    "number = int(input(\"Enter a positive integer: \"))\n",
    "\n",
    "factorial = 1\n",
    "\n",
    "for i in range(1, number + 1):\n",
    "    factorial *= i\n",
    "\n",
    "print(\"Factorial of\", number, \"is:\", factorial)"
   ]
  },
  {
   "cell_type": "markdown",
   "metadata": {},
   "source": [
    "### Bonus Exercise 10: FizzBuzz Problem\n",
    "\n",
    "Write pseudocode for the FizzBuzz problem where you print numbers from 1 to N but replace multiples of three with \"Fizz\" and multiples of five with \"Buzz\"."
   ]
  },
  {
   "cell_type": "markdown",
   "metadata": {},
   "source": [
    "<!-- Add your pseudocode here -->"
   ]
  },
  {
   "cell_type": "code",
   "execution_count": 19,
   "metadata": {},
   "outputs": [
    {
     "name": "stdout",
     "output_type": "stream",
     "text": [
      "1\n",
      "2\n",
      "Fizz\n",
      "4\n",
      "Buzz\n",
      "Fizz\n",
      "7\n",
      "8\n",
      "Fizz\n"
     ]
    }
   ],
   "source": [
    "# Add your code solution here\n",
    "# BEGIN\n",
    "#   READ N\n",
    "#   FOR i FROM 1 TO N DO\n",
    "#       IF i MOD 3 = 0 AND i MOD 5 = 0 THEN\n",
    "#           PRINT \"FizzBuzz\"\n",
    "#       ELSE IF i MOD 3 = 0 THEN\n",
    "#           PRINT \"Fizz\"\n",
    "#       ELSE IF i MOD 5 = 0 THEN\n",
    "#           PRINT \"Buzz\"\n",
    "#       ELSE\n",
    "#           PRINT i\n",
    "#       ENDIF\n",
    "#   ENDFOR\n",
    "# END\n",
    "\n",
    "N = int(input(\"Enter a number: \"))\n",
    "\n",
    "for i in range(1, N + 1):\n",
    "    if i % 3 == 0 and i % 5 == 0:\n",
    "        print(\"FizzBuzz\")\n",
    "    elif i % 3 == 0:\n",
    "        print(\"Fizz\")\n",
    "    elif i % 5 == 0:\n",
    "        print(\"Buzz\")\n",
    "    else:\n",
    "        print(i)"
   ]
  }
 ],
 "metadata": {
  "kernelspec": {
   "display_name": "base",
   "language": "python",
   "name": "python3"
  },
  "language_info": {
   "codemirror_mode": {
    "name": "ipython",
    "version": 3
   },
   "file_extension": ".py",
   "mimetype": "text/x-python",
   "name": "python",
   "nbconvert_exporter": "python",
   "pygments_lexer": "ipython3",
   "version": "3.12.7"
  }
 },
 "nbformat": 4,
 "nbformat_minor": 2
}
